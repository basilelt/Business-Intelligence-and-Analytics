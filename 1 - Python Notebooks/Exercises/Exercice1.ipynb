{
  "nbformat": 4,
  "nbformat_minor": 0,
  "metadata": {
    "colab": {
      "name": "Exercice1.ipynb",
      "provenance": [],
      "toc_visible": true,
      "authorship_tag": "ABX9TyOqtj8cKIVIH2RvSYhLZQwM",
      "include_colab_link": true
    },
    "kernelspec": {
      "name": "python3",
      "display_name": "Python 3"
    },
    "language_info": {
      "name": "python"
    },
    "accelerator": "GPU"
  },
  "cells": [
    {
      "cell_type": "markdown",
      "metadata": {
        "id": "view-in-github",
        "colab_type": "text"
      },
      "source": [
        "<a href=\"https://colab.research.google.com/github/basilelt/Business-Intelligence-and-Analytics/blob/master/1%20-%20Python%20Notebooks/Exercises/Exercice1.ipynb\" target=\"_parent\"><img src=\"https://colab.research.google.com/assets/colab-badge.svg\" alt=\"Open In Colab\"/></a>"
      ]
    },
    {
      "cell_type": "markdown",
      "source": [
        "# <a class=\"anchor\"></a> Exercise: Some simple Statistics tasks\n"
      ],
      "metadata": {
        "id": "hkApkyQCX9cb"
      }
    },
    {
      "cell_type": "markdown",
      "source": [
        "## **Table of Contents**\n",
        "\n",
        "1. Arithmetic Mean\n",
        "1. Mean Squared Error <br>\n",
        "A. Bias of an estimator <br>\n",
        "B. Variance of an estimator"
      ],
      "metadata": {
        "id": "Cik9eG_0YRSL"
      }
    },
    {
      "cell_type": "markdown",
      "source": [
        "# <a class=\"anchor\"></a> 1. The Arithmetic Mean"
      ],
      "metadata": {
        "id": "f8hpdPMVaxr_"
      }
    },
    {
      "cell_type": "markdown",
      "source": [
        "<h1> $$ Mean(x) = \\sum_{i=1}^{n} x_i $$ </h1>"
      ],
      "metadata": {
        "id": "bQI3XvxSbbYw"
      }
    },
    {
      "cell_type": "markdown",
      "source": [
        "Embedded a formatted code block:\n",
        "```markdown\n",
        "x=[1,3,9,4]\n",
        "x_bar=1/4*sum(x)\n",
        "```"
      ],
      "metadata": {
        "id": "caEEYqVgdwzt"
      }
    },
    {
      "cell_type": "code",
      "source": [
        "# actual python calculation\n",
        "x=[1,3,9,4]\n",
        "x_bar=1/len(x)*sum(x)\n",
        "x_bar"
      ],
      "metadata": {
        "colab": {
          "base_uri": "https://localhost:8080/"
        },
        "id": "SHg9pld9f0Si",
        "outputId": "d833b256-3d04-4e59-d024-c5fbd30ed2e5"
      },
      "execution_count": 1,
      "outputs": [
        {
          "output_type": "execute_result",
          "data": {
            "text/plain": [
              "4.25"
            ]
          },
          "metadata": {},
          "execution_count": 1
        }
      ]
    },
    {
      "cell_type": "markdown",
      "source": [
        "# <a class=\"anchor\"></a> 2. Mean Squared Error"
      ],
      "metadata": {
        "id": "zSlEYHvWgU0T"
      }
    },
    {
      "cell_type": "markdown",
      "source": [
        "<h1> $$ MSE(x) = bias^2(x) + var^2(x) $$ </h1>"
      ],
      "metadata": {
        "id": "Jhwo8fWoglWH"
      }
    },
    {
      "cell_type": "markdown",
      "source": [
        "For further information see [http://www.statisticshowto.com/mean-squared-error](http://www.statisticshowto.com/mean-squared-error)"
      ],
      "metadata": {
        "id": "SLwO5W4kg1ZM"
      }
    }
  ]
}