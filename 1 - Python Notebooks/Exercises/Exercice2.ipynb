{
  "nbformat": 4,
  "nbformat_minor": 0,
  "metadata": {
    "colab": {
      "name": "Exercice2.ipynb",
      "provenance": [],
      "authorship_tag": "ABX9TyMfqa0JgO91HIdE17o0R6d+",
      "include_colab_link": true
    },
    "kernelspec": {
      "name": "python3",
      "display_name": "Python 3"
    },
    "language_info": {
      "name": "python"
    }
  },
  "cells": [
    {
      "cell_type": "markdown",
      "metadata": {
        "id": "view-in-github",
        "colab_type": "text"
      },
      "source": [
        "<a href=\"https://colab.research.google.com/github/basilelt/Business-Intelligence-and-Analytics/blob/master/1%20-%20Python%20Notebooks/Exercises/Exercice2.ipynb\" target=\"_parent\"><img src=\"https://colab.research.google.com/assets/colab-badge.svg\" alt=\"Open In Colab\"/></a>"
      ]
    },
    {
      "cell_type": "code",
      "execution_count": 2,
      "metadata": {
        "colab": {
          "base_uri": "https://localhost:8080/",
          "height": 133
        },
        "cellView": "form",
        "id": "WptI01wuhrAc",
        "outputId": "089aeccf-f33d-413f-e0ca-745f2365999b"
      },
      "outputs": [
        {
          "output_type": "display_data",
          "data": {
            "text/html": [
              "\n",
              "<div>\n",
              "<td> \n",
              "<img src=\"https://upload.wikimedia.org/wikipedia/commons/thumb/2/2b/Logo_Universit%C3%A9_de_Lausanne.svg/2000px-Logo_Universit%C3%A9_de_Lausanne.svg.png\" style=\"padding-right:10px;width:240px;float:left\"/></td>\n",
              "<h2 style=\"white-space: nowrap\">Business Intelligence and Analytics</h2></td>\n",
              "<hr style=\"clear:both\">\n",
              "<p style=\"font-size:0.85em; margin:2px; text-align:justify\">\n",
              "\n",
              "</div>"
            ],
            "text/plain": [
              "<IPython.core.display.HTML object>"
            ]
          },
          "metadata": {}
        }
      ],
      "source": [
        "#@title Walkthrough - Lab 1\n",
        "\n",
        "%%html\n",
        "\n",
        "<div>\n",
        "<td> \n",
        "<img src=\"https://upload.wikimedia.org/wikipedia/commons/thumb/2/2b/Logo_Universit%C3%A9_de_Lausanne.svg/2000px-Logo_Universit%C3%A9_de_Lausanne.svg.png\" style=\"padding-right:10px;width:240px;float:left\"/></td>\n",
        "<h2 style=\"white-space: nowrap\">Business Intelligence and Analytics</h2></td>\n",
        "<hr style=\"clear:both\">\n",
        "<p style=\"font-size:0.85em; margin:2px; text-align:justify\">\n",
        "\n",
        "</div>"
      ]
    },
    {
      "cell_type": "markdown",
      "source": [
        "\n",
        "<center><img src='https://upload.wikimedia.org/wikipedia/commons/a/a9/Amazon_logo.svg' width=\"1920\"></center>"
      ],
      "metadata": {
        "id": "Ux4zhQgesFuU"
      }
    },
    {
      "cell_type": "markdown",
      "source": [
        "# <a class=\"anchor\"></a> Description :"
      ],
      "metadata": {
        "id": "x1XYmjSJs-xk"
      }
    },
    {
      "cell_type": "markdown",
      "source": [
        "> **Amazon.com**, Inc is an American multinational technology company based in Seattle, Washington, which focuses on e-commerce, cloud computing, digital streaming, and artificial intelligence.\n",
        "\n",
        "> It is one of the Big Five companies in the U.S. information technology industry, along with Google, Apple, Microsoft, and Facebook. The company has been referred to as \"one of the most influential economic and cultural forces in the world\", as well as the world's most valuable brand.\n",
        "\n",
        "> **Amazon** was founded by `Jeff Bezos` in **Bellevue, Washington**, on *July 5, 1994*. It started as an online marketplace for books but expanded to sell electronics, software, video games, apparel, furniture, food, toys, and jewelry.\n",
        "\n",
        "* In 2015, Amazon surpassed Walmart as the most valuable retailer in the United States by market capitalization.\n",
        "* In 2017, Amazon acquired Whole Foods Market for US$13.4 billion, which substantially increased its footprint as a physical retailer.\n",
        "* In 2018, its two-day delivery service, Amazon Prime, surpassed 100 million subscribers worldwide.\n",
        "\n",
        "Amazon distributes downloads and streaming of video, music, and audiobooks through its [Prime Video](https://en.wikipedia.org/wiki/Prime_Video), [Twitch](https://en.wikipedia.org/wiki/Twitch_(service)), and others. Amazon also has a cloud computing subsidiary, [Amazon Web Services](https://en.wikipedia.org/wiki/Amazon_Web_Services)"
      ],
      "metadata": {
        "id": "a3GRnXs2typr"
      }
    },
    {
      "cell_type": "markdown",
      "source": [
        "# News\n",
        "\n",
        "* Amazon: The unstoppable rise of the internet giant ([read article](https://www.bbc.com/news/business-55927979))\n",
        "* Jeff Bezos: Read Amazon founder's letter to employees ([read article](https://www.independent.co.uk/news/world/americas/jeff-bezos-letter-amazon-b1796716.html))"
      ],
      "metadata": {
        "id": "pfjxqxnvvLIK"
      }
    },
    {
      "cell_type": "markdown",
      "source": [
        "# Key Executives\n",
        "\n",
        "**Name**              |             **Title**             | **Total compensation**\n",
        "----------------------|-----------------------------------|--------------------\n",
        "Mr. Jeffrey P.Bezos   | Chief Executive Officer, Director | 1,681 M\n",
        "Mr. Andrew R. Jassy   | Chief Executive Officier of Amazon Web Services                                                  | 35,61M\n",
        "Mr. Jeffrey Blackburn | Senior Vice-President of Business Development. Entertainment                                             | 22.19M\n",
        "Mr. Jeffrey A. Wilke  | Sr. Advisor                       | 210,725k\n"
      ],
      "metadata": {
        "id": "a8eshwN1vqOh"
      }
    },
    {
      "cell_type": "code",
      "source": [
        "## Videos Before you can find a video from a *recent event*.\n",
        "%%HTML\n",
        "<iframe width=\"560\" height=\"315\" src=\"https://www.youtube.com/embed/a9__D53WsUs\" frameborder=\"0\"\n",
        "allow=\"accelerometer; autoplay; clipboard-write; encrypted-media; gyroscope; picture-in-picture\" allowfullscreen></iframe>"
      ],
      "metadata": {
        "colab": {
          "base_uri": "https://localhost:8080/",
          "height": 336
        },
        "id": "5lMK9tBvBSpF",
        "outputId": "a41b92e5-8151-4fa9-963c-7cf40ff687e3"
      },
      "execution_count": 1,
      "outputs": [
        {
          "output_type": "display_data",
          "data": {
            "text/html": [
              "<iframe width=\"560\" height=\"315\" src=\"https://www.youtube.com/embed/a9__D53WsUs\" frameborder=\"0\"\n",
              "allow=\"accelerometer; autoplay; clipboard-write; encrypted-media; gyroscope; picture-in-picture\" allowfullscreen></iframe>"
            ],
            "text/plain": [
              "<IPython.core.display.HTML object>"
            ]
          },
          "metadata": {}
        }
      ]
    }
  ]
}